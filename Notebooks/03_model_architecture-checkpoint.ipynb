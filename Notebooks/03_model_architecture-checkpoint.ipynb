{
 "cells": [
  {
   "cell_type": "code",
   "execution_count": 1,
   "id": "d133a501",
   "metadata": {},
   "outputs": [],
   "source": [
    "import torch.nn as nn"
   ]
  },
  {
   "cell_type": "code",
   "execution_count": 2,
   "id": "4c4277bf",
   "metadata": {},
   "outputs": [],
   "source": [
    "class SimpleDenoisingCNN(nn.Module):\n",
    "    def __init__(self):\n",
    "        super(SimpleDenoisingCNN, self).__init__()\n",
    "        self.encoder = nn.Sequential(\n",
    "            nn.Conv1d(1, 16, kernel_size=15, padding=7),\n",
    "            nn.ReLU(),\n",
    "            nn.Conv1d(16, 8, kernel_size=15, padding=7),\n",
    "            nn.ReLU(),\n",
    "        )\n",
    "        self.decoder = nn.Sequential(\n",
    "            nn.Conv1d(8, 16, kernel_size=15, padding=7),\n",
    "            nn.ReLU(),\n",
    "            nn.Conv1d(16, 1, kernel_size=15, padding=7)\n",
    "        )\n",
    "\n",
    "    def forward(self, x):\n",
    "        x = self.encoder(x)\n",
    "        x = self.decoder(x)\n",
    "        return x"
   ]
  },
  {
   "cell_type": "code",
   "execution_count": 3,
   "id": "3b7b5e32",
   "metadata": {},
   "outputs": [
    {
     "name": "stdout",
     "output_type": "stream",
     "text": [
      "SimpleDenoisingCNN(\n",
      "  (encoder): Sequential(\n",
      "    (0): Conv1d(1, 16, kernel_size=(15,), stride=(1,), padding=(7,))\n",
      "    (1): ReLU()\n",
      "    (2): Conv1d(16, 8, kernel_size=(15,), stride=(1,), padding=(7,))\n",
      "    (3): ReLU()\n",
      "  )\n",
      "  (decoder): Sequential(\n",
      "    (0): Conv1d(8, 16, kernel_size=(15,), stride=(1,), padding=(7,))\n",
      "    (1): ReLU()\n",
      "    (2): Conv1d(16, 1, kernel_size=(15,), stride=(1,), padding=(7,))\n",
      "  )\n",
      ")\n"
     ]
    }
   ],
   "source": [
    "model = SimpleDenoisingCNN()\n",
    "print(model)"
   ]
  },
  {
   "cell_type": "code",
   "execution_count": null,
   "id": "e9bb2d32",
   "metadata": {},
   "outputs": [],
   "source": []
  }
 ],
 "metadata": {
  "kernelspec": {
   "display_name": "AudioEnv (Python)",
   "language": "python",
   "name": "audioenv"
  },
  "language_info": {
   "codemirror_mode": {
    "name": "ipython",
    "version": 3
   },
   "file_extension": ".py",
   "mimetype": "text/x-python",
   "name": "python",
   "nbconvert_exporter": "python",
   "pygments_lexer": "ipython3",
   "version": "3.9.22"
  }
 },
 "nbformat": 4,
 "nbformat_minor": 5
}
