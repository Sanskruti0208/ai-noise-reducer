{
 "cells": [
  {
   "cell_type": "code",
   "execution_count": 50,
   "id": "ac11ef9f",
   "metadata": {},
   "outputs": [],
   "source": [
    "import os\n",
    "import torch\n",
    "import torch.nn as nn\n",
    "import torch.optim as optim\n",
    "from torch.utils.data import Dataset, DataLoader\n",
    "import librosa\n",
    "import numpy as np\n",
    "from torch.nn.utils.rnn import pad_sequence"
   ]
  },
  {
   "cell_type": "code",
   "execution_count": 51,
   "id": "a23ab113",
   "metadata": {},
   "outputs": [],
   "source": [
    "# Constants\n",
    "CLEAN_DIR = 'C:\\\\Users\\\\sansk\\\\Downloads\\\\ai_noise_reduction\\\\data\\\\clean_testset_wav'\n",
    "NOISY_DIR = 'C:\\\\Users\\\\sansk\\\\Downloads\\\\ai_noise_reduction\\\\data\\\\noisy_dataset_wav'"
   ]
  },
  {
   "cell_type": "code",
   "execution_count": 52,
   "id": "eb364c93",
   "metadata": {},
   "outputs": [],
   "source": [
    "# Helper\n",
    "def load_audio(file_path, sr=16000):\n",
    "    audio, _ = librosa.load(file_path, sr=sr)\n",
    "    return torch.tensor(audio).float().clone().detach()"
   ]
  },
  {
   "cell_type": "code",
   "execution_count": 53,
   "id": "bfd6f366",
   "metadata": {},
   "outputs": [],
   "source": [
    "# Dataset class\n",
    "class NoiseReductionDataset(Dataset):\n",
    "    def __init__(self, noisy_dir, clean_dir, sr=16000):\n",
    "        self.noisy_files = sorted(os.listdir(noisy_dir))\n",
    "        self.clean_files = sorted(os.listdir(clean_dir))\n",
    "        self.noisy_dir = noisy_dir\n",
    "        self.clean_dir = clean_dir\n",
    "        self.sr = sr\n",
    "\n",
    "    def __len__(self):\n",
    "        return len(self.noisy_files)\n",
    "\n",
    "    def __getitem__(self, idx):\n",
    "        noisy_path = os.path.join(self.noisy_dir, self.noisy_files[idx])\n",
    "        clean_path = os.path.join(self.clean_dir, self.clean_files[idx])\n",
    "        noisy = load_audio(noisy_path, self.sr)\n",
    "        clean = load_audio(clean_path, self.sr)\n",
    "        return noisy, clean"
   ]
  },
  {
   "cell_type": "code",
   "execution_count": 54,
   "id": "8d3a817a",
   "metadata": {},
   "outputs": [],
   "source": [
    "# Custom collate function to pad sequences in a batch\n",
    "def collate_fn(batch):\n",
    "    noisy_batch = [x[0] for x in batch]\n",
    "    clean_batch = [x[1] for x in batch]\n",
    "    \n",
    "    # Padding sequences to the same length\n",
    "    noisy_padded = pad_sequence(noisy_batch, batch_first=True, padding_value=0)\n",
    "    clean_padded = pad_sequence(clean_batch, batch_first=True, padding_value=0)\n",
    "    \n",
    "    return noisy_padded, clean_padded"
   ]
  },
  {
   "cell_type": "code",
   "execution_count": 55,
   "id": "e7f31505",
   "metadata": {},
   "outputs": [],
   "source": [
    "# Model class denoising CNN\n",
    "class SimpleDenoisingCNN(nn.Module):\n",
    "    def __init__(self):\n",
    "        super(SimpleDenoisingCNN, self).__init__()\n",
    "        self.encoder = nn.Sequential(\n",
    "            nn.Conv1d(1, 16, kernel_size=15, padding=7),\n",
    "            nn.ReLU(),\n",
    "            nn.Conv1d(16, 8, kernel_size=15, padding=7),\n",
    "            nn.ReLU(),\n",
    "        )\n",
    "        self.decoder = nn.Sequential(\n",
    "            nn.Conv1d(8, 16, kernel_size=15, padding=7),\n",
    "            nn.ReLU(),\n",
    "            nn.Conv1d(16, 1, kernel_size=15, padding=7)\n",
    "        )\n",
    "\n",
    "    def forward(self, x):\n",
    "        x = self.encoder(x)\n",
    "        x = self.decoder(x)\n",
    "        return x"
   ]
  },
  {
   "cell_type": "code",
   "execution_count": 56,
   "id": "97600c51",
   "metadata": {},
   "outputs": [],
   "source": [
    "# Training setup\n",
    "device = torch.device('cuda' if torch.cuda.is_available() else 'cpu')\n",
    "model = SimpleDenoisingCNN()\n",
    "model.to(device)\n",
    "\n",
    "# Initialize optimizer and criterion\n",
    "criterion = nn.MSELoss()\n",
    "optimizer = optim.Adam(model.parameters(), lr=0.001)\n",
    "\n",
    "# Dataset and DataLoader\n",
    "dataset = NoiseReductionDataset(NOISY_DIR, CLEAN_DIR)\n",
    "dataloader = DataLoader(dataset, batch_size=4, shuffle=True, collate_fn=collate_fn)\n",
    "\n",
    "# Learning Rate Scheduler\n",
    "scheduler = optim.lr_scheduler.StepLR(optimizer, step_size=5, gamma=0.1)"
   ]
  },
  {
   "cell_type": "code",
   "execution_count": 57,
   "id": "49343892",
   "metadata": {},
   "outputs": [
    {
     "name": "stdout",
     "output_type": "stream",
     "text": [
      "Epoch [1/10], Loss: 0.0006\n",
      "Epoch [2/10], Loss: 0.0003\n",
      "Epoch [3/10], Loss: 0.0003\n",
      "Epoch [4/10], Loss: 0.0003\n",
      "Epoch [5/10], Loss: 0.0003\n",
      "Epoch [6/10], Loss: 0.0003\n",
      "Epoch [7/10], Loss: 0.0003\n",
      "Epoch [8/10], Loss: 0.0003\n",
      "Epoch [9/10], Loss: 0.0003\n",
      "Epoch [10/10], Loss: 0.0003\n"
     ]
    }
   ],
   "source": [
    "# Training loop\n",
    "num_epochs = 10\n",
    "best_loss = float('inf')  # Initialize best loss to a large value\n",
    "\n",
    "for epoch in range(num_epochs):\n",
    "    model.train()\n",
    "    total_loss = 0.0\n",
    "    for noisy, clean in dataloader:\n",
    "        noisy, clean = noisy.to(device), clean.to(device)\n",
    "        noisy = noisy.unsqueeze(1)  # Add channel dimension\n",
    "        clean = clean.unsqueeze(1)  # Add channel dimension\n",
    "\n",
    "        optimizer.zero_grad()\n",
    "        output = model(noisy)\n",
    "        loss = criterion(output, clean)\n",
    "        loss.backward()\n",
    "        optimizer.step()\n",
    "\n",
    "        total_loss += loss.item()\n",
    "\n",
    "    # Print loss after each epoch\n",
    "    #print(f\"Epoch [{epoch+1}/{num_epochs}], Loss: {total_loss/len(dataloader):.4f}\")"
   ]
  },
  {
   "cell_type": "code",
   "execution_count": 69,
   "id": "6f41df42",
   "metadata": {},
   "outputs": [
    {
     "name": "stdout",
     "output_type": "stream",
     "text": [
      "Epoch [10/10], Loss: 0.0003\n"
     ]
    }
   ],
   "source": [
    "    avg_loss = total_loss / len(dataloader)\n",
    "    print(f\"Epoch [{epoch+1}/{num_epochs}], Loss: {avg_loss:.4f}\")"
   ]
  },
  {
   "cell_type": "code",
   "execution_count": 70,
   "id": "6c0d2651",
   "metadata": {},
   "outputs": [
    {
     "name": "stdout",
     "output_type": "stream",
     "text": [
      "💾 Saving the best model...\n"
     ]
    }
   ],
   "source": [
    "    # Save best model\n",
    "    if avg_loss < best_loss:\n",
    "        best_loss = avg_loss\n",
    "        print(\"💾 Saving the best model...\")\n",
    "        torch.save(model.state_dict(), 'denoising_model.pth')\n",
    "\n",
    "    # Adjust learning rate\n",
    "    scheduler.step()"
   ]
  },
  {
   "cell_type": "code",
   "execution_count": 72,
   "id": "44978452",
   "metadata": {},
   "outputs": [
    {
     "name": "stdout",
     "output_type": "stream",
     "text": [
      "💾 Final model saved to denoising_model.pth\n"
     ]
    },
    {
     "data": {
      "text/plain": [
       "'C:\\\\Users\\\\sansk\\\\Downloads\\\\ai_noise_reduction\\\\model\\\\Denoising_model.pth'"
      ]
     },
     "execution_count": 72,
     "metadata": {},
     "output_type": "execute_result"
    }
   ],
   "source": [
    "# Final model save\n",
    "torch.save(model.state_dict(), 'denoising_model.pth')\n",
    "print(\"💾 Final model saved to denoising_model.pth\")\n",
    "\n",
    "# Move the model to the correct directory\n",
    "shutil.move(\"denoising_model.pth\", \"C:\\\\Users\\\\sansk\\\\Downloads\\\\ai_noise_reduction\\\\model\\\\Denoising_model.pth\")"
   ]
  },
  {
   "cell_type": "code",
   "execution_count": null,
   "id": "6c745512",
   "metadata": {},
   "outputs": [],
   "source": []
  }
 ],
 "metadata": {
  "kernelspec": {
   "display_name": "AudioEnv (Python)",
   "language": "python",
   "name": "audioenv"
  },
  "language_info": {
   "codemirror_mode": {
    "name": "ipython",
    "version": 3
   },
   "file_extension": ".py",
   "mimetype": "text/x-python",
   "name": "python",
   "nbconvert_exporter": "python",
   "pygments_lexer": "ipython3",
   "version": "3.9.22"
  }
 },
 "nbformat": 4,
 "nbformat_minor": 5
}
