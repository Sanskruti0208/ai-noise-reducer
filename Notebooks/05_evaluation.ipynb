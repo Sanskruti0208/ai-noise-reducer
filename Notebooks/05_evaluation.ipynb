{
 "cells": [
  {
   "cell_type": "code",
   "execution_count": 6,
   "id": "aab68365",
   "metadata": {},
   "outputs": [],
   "source": [
    "import sys\n",
    "import os\n",
    "import torch\n",
    "import librosa\n",
    "import numpy as np\n",
    "from torchvision import transforms\n",
    "from torch.utils.data import DataLoader\n",
    "from sklearn.metrics import mean_squared_error, accuracy_score, precision_score, recall_score, f1_score\n",
    "import matplotlib.pyplot as plt"
   ]
  },
  {
   "cell_type": "code",
   "execution_count": 9,
   "id": "3f08056d",
   "metadata": {},
   "outputs": [
    {
     "name": "stdout",
     "output_type": "stream",
     "text": [
      "New working directory: C:\\Users\\sansk\\Downloads\\ai_noise_reduction\\Notebooks\n"
     ]
    }
   ],
   "source": [
    "import os\n",
    "import sys\n",
    "\n",
    "notebook_dir = r\"C:\\Users\\sansk\\Downloads\\ai_noise_reduction\\Notebooks\"\n",
    "sys.path.append(notebook_dir)\n",
    "os.chdir(notebook_dir)  # Optional: Set working directory to this path\n",
    "\n",
    "print(\"New working directory:\", os.getcwd())"
   ]
  },
  {
   "cell_type": "code",
   "execution_count": 10,
   "id": "43c1188b",
   "metadata": {},
   "outputs": [],
   "source": [
    "from dataset import NoiseReductionDataset\n",
    "from model import SimpleDenoisingCNN"
   ]
  },
  {
   "cell_type": "code",
   "execution_count": 11,
   "id": "7ef7d6ba",
   "metadata": {},
   "outputs": [
    {
     "name": "stdout",
     "output_type": "stream",
     "text": [
      "Found 824 noisy files and 824 clean files.\n"
     ]
    }
   ],
   "source": [
    "noisy_path = 'C:\\\\Users\\\\sansk\\\\Downloads\\\\ai_noise_reduction\\\\data\\\\clean_testset_wav'\n",
    "clean_path = 'C:\\\\Users\\\\sansk\\\\Downloads\\\\ai_noise_reduction\\\\data\\\\noisy_dataset_wav'\n",
    "\n",
    "dataset = NoiseReductionDataset(noisy_path, clean_path)\n",
    "dataloader = DataLoader(dataset, batch_size=1, shuffle=False)\n"
   ]
  },
  {
   "cell_type": "code",
   "execution_count": 15,
   "id": "7decd4fb",
   "metadata": {},
   "outputs": [
    {
     "data": {
      "text/plain": [
       "SimpleDenoisingCNN(\n",
       "  (encoder): Sequential(\n",
       "    (0): Conv1d(1, 16, kernel_size=(15,), stride=(1,), padding=(7,))\n",
       "    (1): ReLU()\n",
       "    (2): Conv1d(16, 8, kernel_size=(15,), stride=(1,), padding=(7,))\n",
       "    (3): ReLU()\n",
       "  )\n",
       "  (decoder): Sequential(\n",
       "    (0): Conv1d(8, 16, kernel_size=(15,), stride=(1,), padding=(7,))\n",
       "    (1): ReLU()\n",
       "    (2): Conv1d(16, 1, kernel_size=(15,), stride=(1,), padding=(7,))\n",
       "  )\n",
       ")"
      ]
     },
     "execution_count": 15,
     "metadata": {},
     "output_type": "execute_result"
    }
   ],
   "source": [
    "# Define model\n",
    "model = SimpleDenoisingCNN()\n",
    "\n",
    "# Correct path to the model\n",
    "model_path = os.path.join(\"..\", \"model\", \"Denoising_model.pth\")\n",
    "\n",
    "# Load model weights\n",
    "model.load_state_dict(torch.load(model_path, map_location=torch.device('cpu')))\n",
    "model.eval()"
   ]
  },
  {
   "cell_type": "code",
   "execution_count": 16,
   "id": "5d3ec962",
   "metadata": {},
   "outputs": [],
   "source": [
    "#Evaluation Loop\n",
    "all_preds = []\n",
    "all_targets = []\n",
    "\n",
    "with torch.no_grad():\n",
    "    for noisy, clean in dataloader:\n",
    "        # Convert shape: [batch_size, seq_len] → [batch_size, 1, seq_len]\n",
    "        noisy = noisy.unsqueeze(1).float()\n",
    "        clean = clean.unsqueeze(1).float()\n",
    "\n",
    "        output = model(noisy)\n",
    "\n",
    "        # Flatten for metric calculation\n",
    "        output_np = output.squeeze().numpy().flatten()\n",
    "        clean_np = clean.squeeze().numpy().flatten()\n",
    "\n",
    "        all_preds.extend(output_np)\n",
    "        all_targets.extend(clean_np)\n"
   ]
  },
  {
   "cell_type": "code",
   "execution_count": 17,
   "id": "4b6374f1",
   "metadata": {},
   "outputs": [
    {
     "name": "stdout",
     "output_type": "stream",
     "text": [
      "Mean Squared Error: 0.015115\n",
      "Precision: 0.9860\n",
      "Recall: 0.2599\n",
      "F1 Score: 0.4114\n"
     ]
    }
   ],
   "source": [
    "#Calculate Metrics\n",
    "all_preds = np.array(all_preds)\n",
    "all_targets = np.array(all_targets)\n",
    "\n",
    "# Threshold to create binary mask if needed (e.g., for speech activity detection type task)\n",
    "threshold = 0.05\n",
    "binary_preds = (all_preds > threshold).astype(int)\n",
    "binary_targets = (all_targets > threshold).astype(int)\n",
    "\n",
    "mse = mean_squared_error(all_targets, all_preds)\n",
    "precision = precision_score(binary_targets, binary_preds, zero_division=0)\n",
    "recall = recall_score(binary_targets, binary_preds, zero_division=0)\n",
    "f1 = f1_score(binary_targets, binary_preds, zero_division=0)\n",
    "\n",
    "print(f\"Mean Squared Error: {mse:.6f}\")\n",
    "print(f\"Precision: {precision:.4f}\")\n",
    "print(f\"Recall: {recall:.4f}\")\n",
    "print(f\"F1 Score: {f1:.4f}\")\n"
   ]
  },
  {
   "cell_type": "code",
   "execution_count": 29,
   "id": "1a2f6375",
   "metadata": {},
   "outputs": [
    {
     "ename": "ValueError",
     "evalue": "Classification metrics can't handle a mix of binary and unknown targets",
     "output_type": "error",
     "traceback": [
      "\u001b[1;31m---------------------------------------------------------------------------\u001b[0m",
      "\u001b[1;31mValueError\u001b[0m                                Traceback (most recent call last)",
      "Cell \u001b[1;32mIn[29], line 39\u001b[0m\n\u001b[0;32m     36\u001b[0m y_pred_binary \u001b[38;5;241m=\u001b[39m (y_pred \u001b[38;5;241m>\u001b[39m \u001b[38;5;241m0.5\u001b[39m)\u001b[38;5;241m.\u001b[39mfloat()\n\u001b[0;32m     38\u001b[0m \u001b[38;5;66;03m# Calculate accuracy by converting y_pred_binary to a numpy array\u001b[39;00m\n\u001b[1;32m---> 39\u001b[0m accuracy \u001b[38;5;241m=\u001b[39m \u001b[43maccuracy_score\u001b[49m\u001b[43m(\u001b[49m\u001b[43my_true\u001b[49m\u001b[43m,\u001b[49m\u001b[43m \u001b[49m\u001b[43my_pred_binary\u001b[49m\u001b[38;5;241;43m.\u001b[39;49m\u001b[43mnumpy\u001b[49m\u001b[43m(\u001b[49m\u001b[43m)\u001b[49m\u001b[43m)\u001b[49m\n\u001b[0;32m     40\u001b[0m \u001b[38;5;28mprint\u001b[39m(\u001b[38;5;124mf\u001b[39m\u001b[38;5;124m\"\u001b[39m\u001b[38;5;124mAccuracy: \u001b[39m\u001b[38;5;132;01m{\u001b[39;00maccuracy\u001b[38;5;132;01m}\u001b[39;00m\u001b[38;5;124m\"\u001b[39m)\n",
      "File \u001b[1;32m~\\anaconda3\\envs\\audioenv\\lib\\site-packages\\sklearn\\utils\\_param_validation.py:216\u001b[0m, in \u001b[0;36mvalidate_params.<locals>.decorator.<locals>.wrapper\u001b[1;34m(*args, **kwargs)\u001b[0m\n\u001b[0;32m    210\u001b[0m \u001b[38;5;28;01mtry\u001b[39;00m:\n\u001b[0;32m    211\u001b[0m     \u001b[38;5;28;01mwith\u001b[39;00m config_context(\n\u001b[0;32m    212\u001b[0m         skip_parameter_validation\u001b[38;5;241m=\u001b[39m(\n\u001b[0;32m    213\u001b[0m             prefer_skip_nested_validation \u001b[38;5;129;01mor\u001b[39;00m global_skip_validation\n\u001b[0;32m    214\u001b[0m         )\n\u001b[0;32m    215\u001b[0m     ):\n\u001b[1;32m--> 216\u001b[0m         \u001b[38;5;28;01mreturn\u001b[39;00m func(\u001b[38;5;241m*\u001b[39margs, \u001b[38;5;241m*\u001b[39m\u001b[38;5;241m*\u001b[39mkwargs)\n\u001b[0;32m    217\u001b[0m \u001b[38;5;28;01mexcept\u001b[39;00m InvalidParameterError \u001b[38;5;28;01mas\u001b[39;00m e:\n\u001b[0;32m    218\u001b[0m     \u001b[38;5;66;03m# When the function is just a wrapper around an estimator, we allow\u001b[39;00m\n\u001b[0;32m    219\u001b[0m     \u001b[38;5;66;03m# the function to delegate validation to the estimator, but we replace\u001b[39;00m\n\u001b[0;32m    220\u001b[0m     \u001b[38;5;66;03m# the name of the estimator by the name of the function in the error\u001b[39;00m\n\u001b[0;32m    221\u001b[0m     \u001b[38;5;66;03m# message to avoid confusion.\u001b[39;00m\n\u001b[0;32m    222\u001b[0m     msg \u001b[38;5;241m=\u001b[39m re\u001b[38;5;241m.\u001b[39msub(\n\u001b[0;32m    223\u001b[0m         \u001b[38;5;124mr\u001b[39m\u001b[38;5;124m\"\u001b[39m\u001b[38;5;124mparameter of \u001b[39m\u001b[38;5;124m\\\u001b[39m\u001b[38;5;124mw+ must be\u001b[39m\u001b[38;5;124m\"\u001b[39m,\n\u001b[0;32m    224\u001b[0m         \u001b[38;5;124mf\u001b[39m\u001b[38;5;124m\"\u001b[39m\u001b[38;5;124mparameter of \u001b[39m\u001b[38;5;132;01m{\u001b[39;00mfunc\u001b[38;5;241m.\u001b[39m\u001b[38;5;18m__qualname__\u001b[39m\u001b[38;5;132;01m}\u001b[39;00m\u001b[38;5;124m must be\u001b[39m\u001b[38;5;124m\"\u001b[39m,\n\u001b[0;32m    225\u001b[0m         \u001b[38;5;28mstr\u001b[39m(e),\n\u001b[0;32m    226\u001b[0m     )\n",
      "File \u001b[1;32m~\\anaconda3\\envs\\audioenv\\lib\\site-packages\\sklearn\\metrics\\_classification.py:227\u001b[0m, in \u001b[0;36maccuracy_score\u001b[1;34m(y_true, y_pred, normalize, sample_weight)\u001b[0m\n\u001b[0;32m    225\u001b[0m \u001b[38;5;66;03m# Compute accuracy for each possible representation\u001b[39;00m\n\u001b[0;32m    226\u001b[0m y_true, y_pred \u001b[38;5;241m=\u001b[39m attach_unique(y_true, y_pred)\n\u001b[1;32m--> 227\u001b[0m y_type, y_true, y_pred \u001b[38;5;241m=\u001b[39m \u001b[43m_check_targets\u001b[49m\u001b[43m(\u001b[49m\u001b[43my_true\u001b[49m\u001b[43m,\u001b[49m\u001b[43m \u001b[49m\u001b[43my_pred\u001b[49m\u001b[43m)\u001b[49m\n\u001b[0;32m    228\u001b[0m check_consistent_length(y_true, y_pred, sample_weight)\n\u001b[0;32m    230\u001b[0m \u001b[38;5;28;01mif\u001b[39;00m y_type\u001b[38;5;241m.\u001b[39mstartswith(\u001b[38;5;124m\"\u001b[39m\u001b[38;5;124mmultilabel\u001b[39m\u001b[38;5;124m\"\u001b[39m):\n",
      "File \u001b[1;32m~\\anaconda3\\envs\\audioenv\\lib\\site-packages\\sklearn\\metrics\\_classification.py:107\u001b[0m, in \u001b[0;36m_check_targets\u001b[1;34m(y_true, y_pred)\u001b[0m\n\u001b[0;32m    104\u001b[0m     y_type \u001b[38;5;241m=\u001b[39m {\u001b[38;5;124m\"\u001b[39m\u001b[38;5;124mmulticlass\u001b[39m\u001b[38;5;124m\"\u001b[39m}\n\u001b[0;32m    106\u001b[0m \u001b[38;5;28;01mif\u001b[39;00m \u001b[38;5;28mlen\u001b[39m(y_type) \u001b[38;5;241m>\u001b[39m \u001b[38;5;241m1\u001b[39m:\n\u001b[1;32m--> 107\u001b[0m     \u001b[38;5;28;01mraise\u001b[39;00m \u001b[38;5;167;01mValueError\u001b[39;00m(\n\u001b[0;32m    108\u001b[0m         \u001b[38;5;124m\"\u001b[39m\u001b[38;5;124mClassification metrics can\u001b[39m\u001b[38;5;124m'\u001b[39m\u001b[38;5;124mt handle a mix of \u001b[39m\u001b[38;5;132;01m{0}\u001b[39;00m\u001b[38;5;124m and \u001b[39m\u001b[38;5;132;01m{1}\u001b[39;00m\u001b[38;5;124m targets\u001b[39m\u001b[38;5;124m\"\u001b[39m\u001b[38;5;241m.\u001b[39mformat(\n\u001b[0;32m    109\u001b[0m             type_true, type_pred\n\u001b[0;32m    110\u001b[0m         )\n\u001b[0;32m    111\u001b[0m     )\n\u001b[0;32m    113\u001b[0m \u001b[38;5;66;03m# We can't have more than one value on y_type => The set is no more needed\u001b[39;00m\n\u001b[0;32m    114\u001b[0m y_type \u001b[38;5;241m=\u001b[39m y_type\u001b[38;5;241m.\u001b[39mpop()\n",
      "\u001b[1;31mValueError\u001b[0m: Classification metrics can't handle a mix of binary and unknown targets"
     ]
    }
   ],
   "source": [
    "import numpy as np\n",
    "import torch\n",
    "from sklearn.metrics import accuracy_score\n",
    "\n",
    "# Example: Reshaping the input to have 1 channel and the length as the other dimensions\n",
    "X_test = np.random.rand(5, 3)  # Example: 5 samples, each with 3 features\n",
    "\n",
    "# Reshape it to match the expected input of [batch_size, channels, input_length]\n",
    "# For this example, reshape to [5, 1, 3] where 5 is batch size, 1 is channel, and 3 is length\n",
    "X_test_reshaped = X_test.reshape(5, 1, 3)\n",
    "\n",
    "# Convert to PyTorch tensor\n",
    "X_test_tensor = torch.tensor(X_test_reshaped, dtype=torch.float32)\n",
    "\n",
    "# Example: Defining the model (replace with your actual model)\n",
    "# For demonstration, we're using a simple dummy model\n",
    "class DummyModel(torch.nn.Module):\n",
    "    def __init__(self):\n",
    "        super(DummyModel, self).__init__()\n",
    "        self.layer = torch.nn.Linear(3, 1)  # 3 features input, 1 output (binary)\n",
    "\n",
    "    def forward(self, x):\n",
    "        return torch.sigmoid(self.layer(x))\n",
    "\n",
    "model = DummyModel()\n",
    "\n",
    "# Example true labels (y_true in binary format)\n",
    "y_true = [1, 0, 1, 0, 1]  # True labels (must be in binary format)\n",
    "\n",
    "# Now pass it to the model\n",
    "model.eval()\n",
    "with torch.no_grad():\n",
    "    y_pred = model(X_test_tensor)\n",
    "\n",
    "# Convert the model output to binary predictions (0 or 1)\n",
    "y_pred_binary = (y_pred > 0.5).float()\n",
    "\n",
    "# Calculate accuracy by converting y_pred_binary to a numpy array\n",
    "accuracy = accuracy_score(y_true, y_pred_binary.numpy())\n",
    "print(f\"Accuracy: {accuracy}\")\n"
   ]
  },
  {
   "cell_type": "code",
   "execution_count": 28,
   "id": "3fd6151e",
   "metadata": {},
   "outputs": [
    {
     "name": "stdout",
     "output_type": "stream",
     "text": [
      "Accuracy: 1.0\n"
     ]
    }
   ],
   "source": [
    "import torch\n",
    "from sklearn.metrics import accuracy_score\n",
    "\n",
    "# Example model output (probabilities)\n",
    "model_output = torch.tensor([0.7, 0.2, 0.9, 0.4, 0.6])\n",
    "\n",
    "# Convert model output to binary predictions (0 or 1)\n",
    "y_pred_binary = (model_output > 0.5).float()\n",
    "\n",
    "# Example true labels (binary format)\n",
    "y_true = [1, 0, 1, 0, 1]\n",
    "\n",
    "# Ensure y_pred_binary is a NumPy array for compatibility with accuracy_score\n",
    "accuracy = accuracy_score(y_true, y_pred_binary.numpy())\n",
    "print(f\"Accuracy: {accuracy}\")\n"
   ]
  },
  {
   "cell_type": "code",
   "execution_count": null,
   "id": "eff53eba",
   "metadata": {},
   "outputs": [],
   "source": []
  }
 ],
 "metadata": {
  "kernelspec": {
   "display_name": "AudioEnv (Python)",
   "language": "python",
   "name": "audioenv"
  },
  "language_info": {
   "codemirror_mode": {
    "name": "ipython",
    "version": 3
   },
   "file_extension": ".py",
   "mimetype": "text/x-python",
   "name": "python",
   "nbconvert_exporter": "python",
   "pygments_lexer": "ipython3",
   "version": "3.9.22"
  }
 },
 "nbformat": 4,
 "nbformat_minor": 5
}
