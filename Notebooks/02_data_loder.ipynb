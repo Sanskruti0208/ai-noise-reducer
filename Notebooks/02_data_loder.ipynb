{
 "cells": [
  {
   "cell_type": "code",
   "execution_count": 16,
   "id": "864d457a",
   "metadata": {},
   "outputs": [],
   "source": [
    "import torch\n",
    "import os\n",
    "import librosa\n",
    "import torch.nn.functional as F\n",
    "from torch.utils.data import Dataset\n",
    "from torch.utils.data import DataLoader"
   ]
  },
  {
   "cell_type": "code",
   "execution_count": 17,
   "id": "ce6fb045",
   "metadata": {},
   "outputs": [],
   "source": [
    "NOISY_DIR = r\"C:\\Users\\sansk\\Downloads\\ai_noise_reduction\\data\\noisy_dataset_wav\"\n",
    "CLEAN_DIR = r\"C:\\Users\\sansk\\Downloads\\ai_noise_reduction\\data\\clean_testset_wav\""
   ]
  },
  {
   "cell_type": "code",
   "execution_count": 18,
   "id": "5ae2350b",
   "metadata": {},
   "outputs": [],
   "source": [
    "class NoiseReductionDataset(Dataset):\n",
    "    def __init__(self, noisy_dir, clean_dir, sr=16000, target_length=50000):\n",
    "        self.noisy_dir = noisy_dir\n",
    "        self.clean_dir = clean_dir\n",
    "        self.sr = sr\n",
    "        self.target_length = target_length\n",
    "        self.noisy_files = sorted([f for f in os.listdir(noisy_dir) if f.endswith('.wav')])\n",
    "        self.clean_files = sorted([f for f in os.listdir(clean_dir) if f.endswith('.wav')])\n",
    "        print(f\"Found {len(self.noisy_files)} noisy files and {len(self.clean_files)} clean files.\")\n",
    "\n",
    "    def __len__(self):\n",
    "        return min(len(self.noisy_files), len(self.clean_files))\n",
    "\n",
    "    def __getitem__(self, idx):\n",
    "        noisy_path = os.path.join(self.noisy_dir, self.noisy_files[idx])\n",
    "        clean_path = os.path.join(self.clean_dir, self.clean_files[idx])\n",
    "\n",
    "        # Load audio files\n",
    "        noisy = self.load_audio(noisy_path)\n",
    "        clean = self.load_audio(clean_path)\n",
    "\n",
    "        # Pad audio to the target length\n",
    "        noisy = F.pad(torch.tensor(noisy), (0, self.target_length - len(noisy)), 'constant', 0)\n",
    "        clean = F.pad(torch.tensor(clean), (0, self.target_length - len(clean)), 'constant', 0)\n",
    "\n",
    "        return noisy, clean\n",
    "\n",
    "    def load_audio(self, filepath):\n",
    "        # Using librosa to load the audio file\n",
    "        audio, _ = librosa.load(filepath, sr=self.sr)\n",
    "        return audio"
   ]
  },
  {
   "cell_type": "code",
   "execution_count": 19,
   "id": "577e7180",
   "metadata": {},
   "outputs": [
    {
     "name": "stdout",
     "output_type": "stream",
     "text": [
      "Found 824 noisy files and 824 clean files.\n"
     ]
    }
   ],
   "source": [
    "# Initialize the dataset with a target length\n",
    "dataset = NoiseReductionDataset(NOISY_DIR, CLEAN_DIR, target_length=50000)"
   ]
  },
  {
   "cell_type": "code",
   "execution_count": 20,
   "id": "bfa4c783",
   "metadata": {},
   "outputs": [],
   "source": [
    "# Initialize the dataloader\n",
    "dataloader = DataLoader(dataset, batch_size=4, shuffle=True)"
   ]
  },
  {
   "cell_type": "code",
   "execution_count": 21,
   "id": "ea81e6e7",
   "metadata": {},
   "outputs": [
    {
     "name": "stdout",
     "output_type": "stream",
     "text": [
      "Noisy batch shape: torch.Size([4, 50000])\n",
      "Clean batch shape: torch.Size([4, 50000])\n"
     ]
    }
   ],
   "source": [
    "# Preview a batch\n",
    "for noisy_batch, clean_batch in dataloader:\n",
    "    print(\"Noisy batch shape:\", noisy_batch.shape)\n",
    "    print(\"Clean batch shape:\", clean_batch.shape)\n",
    "    break"
   ]
  },
  {
   "cell_type": "code",
   "execution_count": null,
   "id": "4b846589",
   "metadata": {},
   "outputs": [],
   "source": []
  }
 ],
 "metadata": {
  "kernelspec": {
   "display_name": "AudioEnv (Python)",
   "language": "python",
   "name": "audioenv"
  },
  "language_info": {
   "codemirror_mode": {
    "name": "ipython",
    "version": 3
   },
   "file_extension": ".py",
   "mimetype": "text/x-python",
   "name": "python",
   "nbconvert_exporter": "python",
   "pygments_lexer": "ipython3",
   "version": "3.9.22"
  }
 },
 "nbformat": 4,
 "nbformat_minor": 5
}
